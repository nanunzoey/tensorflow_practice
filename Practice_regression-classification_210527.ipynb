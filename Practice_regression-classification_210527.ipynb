{
  "nbformat": 4,
  "nbformat_minor": 0,
  "metadata": {
    "colab": {
      "name": "Regression, Classification_210527.ipynb",
      "provenance": [],
      "authorship_tag": "ABX9TyMDAjkc9j/p6ifDWGrisiCn",
      "include_colab_link": true
    },
    "kernelspec": {
      "name": "python3",
      "display_name": "Python 3"
    },
    "language_info": {
      "name": "python"
    }
  },
  "cells": [
    {
      "cell_type": "markdown",
      "metadata": {
        "id": "view-in-github",
        "colab_type": "text"
      },
      "source": [
        "<a href=\"https://colab.research.google.com/github/nanunzoey/tensorflow_practice_using_python/blob/master/Practice_regression-classification_210527.ipynb\" target=\"_parent\"><img src=\"https://colab.research.google.com/assets/colab-badge.svg\" alt=\"Open In Colab\"/></a>"
      ]
    },
    {
      "cell_type": "markdown",
      "metadata": {
        "id": "zm5bpFZF9CqZ"
      },
      "source": [
        "### **레모네이드 판매 예측**"
      ]
    },
    {
      "cell_type": "code",
      "metadata": {
        "id": "Jvd-Ijfv6QDg"
      },
      "source": [
        "# 라이브러리 사용\n",
        "import tensorflow as tf\n",
        "import pandas as pd"
      ],
      "execution_count": 1,
      "outputs": []
    },
    {
      "cell_type": "code",
      "metadata": {
        "colab": {
          "base_uri": "https://localhost:8080/",
          "height": 200
        },
        "id": "Wf0sFp-K6cqJ",
        "outputId": "79fd7394-a4f3-46ee-dc59-7bbc989efd66"
      },
      "source": [
        "# 데이터 준비\n",
        "from_file = 'https://raw.githubusercontent.com/blackdew/tensorflow1/master/csv/lemonade.csv'\n",
        "data = pd.read_csv(from_file)\n",
        "data.head()"
      ],
      "execution_count": 2,
      "outputs": [
        {
          "output_type": "execute_result",
          "data": {
            "text/html": [
              "<div>\n",
              "<style scoped>\n",
              "    .dataframe tbody tr th:only-of-type {\n",
              "        vertical-align: middle;\n",
              "    }\n",
              "\n",
              "    .dataframe tbody tr th {\n",
              "        vertical-align: top;\n",
              "    }\n",
              "\n",
              "    .dataframe thead th {\n",
              "        text-align: right;\n",
              "    }\n",
              "</style>\n",
              "<table border=\"1\" class=\"dataframe\">\n",
              "  <thead>\n",
              "    <tr style=\"text-align: right;\">\n",
              "      <th></th>\n",
              "      <th>온도</th>\n",
              "      <th>판매량</th>\n",
              "    </tr>\n",
              "  </thead>\n",
              "  <tbody>\n",
              "    <tr>\n",
              "      <th>0</th>\n",
              "      <td>20</td>\n",
              "      <td>40</td>\n",
              "    </tr>\n",
              "    <tr>\n",
              "      <th>1</th>\n",
              "      <td>21</td>\n",
              "      <td>42</td>\n",
              "    </tr>\n",
              "    <tr>\n",
              "      <th>2</th>\n",
              "      <td>22</td>\n",
              "      <td>44</td>\n",
              "    </tr>\n",
              "    <tr>\n",
              "      <th>3</th>\n",
              "      <td>23</td>\n",
              "      <td>46</td>\n",
              "    </tr>\n",
              "    <tr>\n",
              "      <th>4</th>\n",
              "      <td>24</td>\n",
              "      <td>48</td>\n",
              "    </tr>\n",
              "  </tbody>\n",
              "</table>\n",
              "</div>"
            ],
            "text/plain": [
              "   온도  판매량\n",
              "0  20   40\n",
              "1  21   42\n",
              "2  22   44\n",
              "3  23   46\n",
              "4  24   48"
            ]
          },
          "metadata": {
            "tags": []
          },
          "execution_count": 2
        }
      ]
    },
    {
      "cell_type": "code",
      "metadata": {
        "colab": {
          "base_uri": "https://localhost:8080/"
        },
        "id": "t2RjflfH6ytt",
        "outputId": "11f94471-484c-415a-ff7d-96dd22013d71"
      },
      "source": [
        "# 종속, 독립변수 분리\n",
        "val_independant = data[['온도']]\n",
        "val_dependant = data[['판매량']]\n",
        "print(val_independant.shape, val_dependant.shape)"
      ],
      "execution_count": 5,
      "outputs": [
        {
          "output_type": "stream",
          "text": [
            "(6, 1) (6, 1)\n"
          ],
          "name": "stdout"
        }
      ]
    },
    {
      "cell_type": "code",
      "metadata": {
        "id": "0wFlfnbj7J3V"
      },
      "source": [
        "# 모델 만들기\n",
        "X = tf.keras.layers.Input(shape=[1])\n",
        "Y = tf.keras.layers.Dense(1)(X)\n",
        "model = tf.keras.models.Model(X, Y)\n",
        "model.compile(loss='mse')"
      ],
      "execution_count": 7,
      "outputs": []
    },
    {
      "cell_type": "code",
      "metadata": {
        "colab": {
          "base_uri": "https://localhost:8080/"
        },
        "id": "IMTp79GB7h47",
        "outputId": "53e9bb64-6005-48ad-9c14-f74360754bc3"
      },
      "source": [
        "# 모델 학습시키기\n",
        "model.fit(val_independant, val_dependant, epochs=10, verbose=0)"
      ],
      "execution_count": 15,
      "outputs": [
        {
          "output_type": "execute_result",
          "data": {
            "text/plain": [
              "<tensorflow.python.keras.callbacks.History at 0x7f190a489d10>"
            ]
          },
          "metadata": {
            "tags": []
          },
          "execution_count": 15
        }
      ]
    },
    {
      "cell_type": "code",
      "metadata": {
        "colab": {
          "base_uri": "https://localhost:8080/"
        },
        "id": "wZ1Hbywi7qi2",
        "outputId": "d3e97207-e365-4bd5-880d-39d5494f6078"
      },
      "source": [
        "# 모델 이용하기\n",
        "model.predict(val_independant)"
      ],
      "execution_count": 16,
      "outputs": [
        {
          "output_type": "execute_result",
          "data": {
            "text/plain": [
              "array([[39.98951 ],\n",
              "       [41.989006],\n",
              "       [43.988503],\n",
              "       [45.988   ],\n",
              "       [47.98749 ],\n",
              "       [49.986988]], dtype=float32)"
            ]
          },
          "metadata": {
            "tags": []
          },
          "execution_count": 16
        }
      ]
    },
    {
      "cell_type": "code",
      "metadata": {
        "colab": {
          "base_uri": "https://localhost:8080/"
        },
        "id": "0U7DI3lq8lU6",
        "outputId": "4754a2ea-98ac-4922-a4ed-142309154499"
      },
      "source": [
        "model.predict([[15]])"
      ],
      "execution_count": 17,
      "outputs": [
        {
          "output_type": "execute_result",
          "data": {
            "text/plain": [
              "array([[29.99203]], dtype=float32)"
            ]
          },
          "metadata": {
            "tags": []
          },
          "execution_count": 17
        }
      ]
    },
    {
      "cell_type": "markdown",
      "metadata": {
        "id": "DcgGEutY89ku"
      },
      "source": [
        "### **보스턴 집값 예측**"
      ]
    },
    {
      "cell_type": "code",
      "metadata": {
        "id": "QHKffGq1x7ro"
      },
      "source": [
        "# 라이브러리 사용\n",
        "import tensorflow as tf\n",
        "import pandas as pd"
      ],
      "execution_count": 2,
      "outputs": []
    },
    {
      "cell_type": "code",
      "metadata": {
        "colab": {
          "base_uri": "https://localhost:8080/",
          "height": 253
        },
        "id": "8IQeTBPy8t2Z",
        "outputId": "14018ebb-f714-41a8-d7f8-0c15934da9e3"
      },
      "source": [
        "# 1. 과거의 데이터 준비\n",
        "파일경로 = 'https://raw.githubusercontent.com/blackdew/tensorflow1/master/csv/boston.csv'\n",
        "보스턴 = pd.read_csv(파일경로)\n",
        "print(보스턴.columns)\n",
        "보스턴.head()"
      ],
      "execution_count": 4,
      "outputs": [
        {
          "output_type": "stream",
          "text": [
            "Index(['crim', 'zn', 'indus', 'chas', 'nox', 'rm', 'age', 'dis', 'rad', 'tax',\n",
            "       'ptratio', 'b', 'lstat', 'medv'],\n",
            "      dtype='object')\n"
          ],
          "name": "stdout"
        },
        {
          "output_type": "execute_result",
          "data": {
            "text/html": [
              "<div>\n",
              "<style scoped>\n",
              "    .dataframe tbody tr th:only-of-type {\n",
              "        vertical-align: middle;\n",
              "    }\n",
              "\n",
              "    .dataframe tbody tr th {\n",
              "        vertical-align: top;\n",
              "    }\n",
              "\n",
              "    .dataframe thead th {\n",
              "        text-align: right;\n",
              "    }\n",
              "</style>\n",
              "<table border=\"1\" class=\"dataframe\">\n",
              "  <thead>\n",
              "    <tr style=\"text-align: right;\">\n",
              "      <th></th>\n",
              "      <th>crim</th>\n",
              "      <th>zn</th>\n",
              "      <th>indus</th>\n",
              "      <th>chas</th>\n",
              "      <th>nox</th>\n",
              "      <th>rm</th>\n",
              "      <th>age</th>\n",
              "      <th>dis</th>\n",
              "      <th>rad</th>\n",
              "      <th>tax</th>\n",
              "      <th>ptratio</th>\n",
              "      <th>b</th>\n",
              "      <th>lstat</th>\n",
              "      <th>medv</th>\n",
              "    </tr>\n",
              "  </thead>\n",
              "  <tbody>\n",
              "    <tr>\n",
              "      <th>0</th>\n",
              "      <td>0.00632</td>\n",
              "      <td>18.0</td>\n",
              "      <td>2.31</td>\n",
              "      <td>0</td>\n",
              "      <td>0.538</td>\n",
              "      <td>6.575</td>\n",
              "      <td>65.2</td>\n",
              "      <td>4.0900</td>\n",
              "      <td>1</td>\n",
              "      <td>296</td>\n",
              "      <td>15.3</td>\n",
              "      <td>396.90</td>\n",
              "      <td>4.98</td>\n",
              "      <td>24.0</td>\n",
              "    </tr>\n",
              "    <tr>\n",
              "      <th>1</th>\n",
              "      <td>0.02731</td>\n",
              "      <td>0.0</td>\n",
              "      <td>7.07</td>\n",
              "      <td>0</td>\n",
              "      <td>0.469</td>\n",
              "      <td>6.421</td>\n",
              "      <td>78.9</td>\n",
              "      <td>4.9671</td>\n",
              "      <td>2</td>\n",
              "      <td>242</td>\n",
              "      <td>17.8</td>\n",
              "      <td>396.90</td>\n",
              "      <td>9.14</td>\n",
              "      <td>21.6</td>\n",
              "    </tr>\n",
              "    <tr>\n",
              "      <th>2</th>\n",
              "      <td>0.02729</td>\n",
              "      <td>0.0</td>\n",
              "      <td>7.07</td>\n",
              "      <td>0</td>\n",
              "      <td>0.469</td>\n",
              "      <td>7.185</td>\n",
              "      <td>61.1</td>\n",
              "      <td>4.9671</td>\n",
              "      <td>2</td>\n",
              "      <td>242</td>\n",
              "      <td>17.8</td>\n",
              "      <td>392.83</td>\n",
              "      <td>4.03</td>\n",
              "      <td>34.7</td>\n",
              "    </tr>\n",
              "    <tr>\n",
              "      <th>3</th>\n",
              "      <td>0.03237</td>\n",
              "      <td>0.0</td>\n",
              "      <td>2.18</td>\n",
              "      <td>0</td>\n",
              "      <td>0.458</td>\n",
              "      <td>6.998</td>\n",
              "      <td>45.8</td>\n",
              "      <td>6.0622</td>\n",
              "      <td>3</td>\n",
              "      <td>222</td>\n",
              "      <td>18.7</td>\n",
              "      <td>394.63</td>\n",
              "      <td>2.94</td>\n",
              "      <td>33.4</td>\n",
              "    </tr>\n",
              "    <tr>\n",
              "      <th>4</th>\n",
              "      <td>0.06905</td>\n",
              "      <td>0.0</td>\n",
              "      <td>2.18</td>\n",
              "      <td>0</td>\n",
              "      <td>0.458</td>\n",
              "      <td>7.147</td>\n",
              "      <td>54.2</td>\n",
              "      <td>6.0622</td>\n",
              "      <td>3</td>\n",
              "      <td>222</td>\n",
              "      <td>18.7</td>\n",
              "      <td>396.90</td>\n",
              "      <td>5.33</td>\n",
              "      <td>36.2</td>\n",
              "    </tr>\n",
              "  </tbody>\n",
              "</table>\n",
              "</div>"
            ],
            "text/plain": [
              "      crim    zn  indus  chas    nox  ...  tax  ptratio       b  lstat  medv\n",
              "0  0.00632  18.0   2.31     0  0.538  ...  296     15.3  396.90   4.98  24.0\n",
              "1  0.02731   0.0   7.07     0  0.469  ...  242     17.8  396.90   9.14  21.6\n",
              "2  0.02729   0.0   7.07     0  0.469  ...  242     17.8  392.83   4.03  34.7\n",
              "3  0.03237   0.0   2.18     0  0.458  ...  222     18.7  394.63   2.94  33.4\n",
              "4  0.06905   0.0   2.18     0  0.458  ...  222     18.7  396.90   5.33  36.2\n",
              "\n",
              "[5 rows x 14 columns]"
            ]
          },
          "metadata": {
            "tags": []
          },
          "execution_count": 4
        }
      ]
    },
    {
      "cell_type": "code",
      "metadata": {
        "colab": {
          "base_uri": "https://localhost:8080/"
        },
        "id": "fZ4rBx-WxyX3",
        "outputId": "df746efc-93bb-4495-a044-3fbd728efca3"
      },
      "source": [
        "# 독립, 종속변수 분리\n",
        "독립 = 보스턴[['crim', 'zn', 'indus', 'chas', 'nox', 'rm', 'age', 'dis', 'rad', 'tax', 'ptratio', 'b', 'lstat']]\n",
        "종속 = 보스턴[['medv']]\n",
        "print(독립.shape, 종속.shape)"
      ],
      "execution_count": 8,
      "outputs": [
        {
          "output_type": "stream",
          "text": [
            "(506, 13) (506, 1)\n"
          ],
          "name": "stdout"
        }
      ]
    },
    {
      "cell_type": "code",
      "metadata": {
        "id": "7rN5q5l8yXzp"
      },
      "source": [
        "# 2. 모델의 구조 만들기\n",
        "X = tf.keras.layers.Input(shape=[13])\n",
        "Y = tf.keras.layers.Dense(1)(X)\n",
        "model = tf.keras.models.Model(X, Y)\n",
        "model.compile(loss='mse')"
      ],
      "execution_count": 10,
      "outputs": []
    },
    {
      "cell_type": "code",
      "metadata": {
        "colab": {
          "base_uri": "https://localhost:8080/"
        },
        "id": "Qot4EH2Fy_Ty",
        "outputId": "c9666496-3f23-4e63-9330-5b18fd25b8ca"
      },
      "source": [
        "# 3. 모델을 학습(FIT)하기\n",
        "model.fit(독립, 종속, epochs=10)"
      ],
      "execution_count": 26,
      "outputs": [
        {
          "output_type": "stream",
          "text": [
            "Epoch 1/10\n",
            "16/16 [==============================] - 0s 1ms/step - loss: 24.3082\n",
            "Epoch 2/10\n",
            "16/16 [==============================] - 0s 1ms/step - loss: 24.2067\n",
            "Epoch 3/10\n",
            "16/16 [==============================] - 0s 2ms/step - loss: 24.7417\n",
            "Epoch 4/10\n",
            "16/16 [==============================] - 0s 2ms/step - loss: 23.8736\n",
            "Epoch 5/10\n",
            "16/16 [==============================] - 0s 1ms/step - loss: 24.4499\n",
            "Epoch 6/10\n",
            "16/16 [==============================] - 0s 1ms/step - loss: 24.0163\n",
            "Epoch 7/10\n",
            "16/16 [==============================] - 0s 1ms/step - loss: 24.2537\n",
            "Epoch 8/10\n",
            "16/16 [==============================] - 0s 1ms/step - loss: 24.3988\n",
            "Epoch 9/10\n",
            "16/16 [==============================] - 0s 1ms/step - loss: 24.5717\n",
            "Epoch 10/10\n",
            "16/16 [==============================] - 0s 1ms/step - loss: 24.3347\n"
          ],
          "name": "stdout"
        },
        {
          "output_type": "execute_result",
          "data": {
            "text/plain": [
              "<tensorflow.python.keras.callbacks.History at 0x7f39e02ebb10>"
            ]
          },
          "metadata": {
            "tags": []
          },
          "execution_count": 26
        }
      ]
    },
    {
      "cell_type": "code",
      "metadata": {
        "colab": {
          "base_uri": "https://localhost:8080/"
        },
        "id": "tRitFtvMzPq2",
        "outputId": "06700906-cdf1-4ef3-bb58-9674db7be127"
      },
      "source": [
        "# 4. 모델을 이용하기\n",
        "model.predict(독립[0:5])"
      ],
      "execution_count": 23,
      "outputs": [
        {
          "output_type": "execute_result",
          "data": {
            "text/plain": [
              "array([[29.412807],\n",
              "       [24.247135],\n",
              "       [30.710491],\n",
              "       [29.60601 ],\n",
              "       [29.16743 ]], dtype=float32)"
            ]
          },
          "metadata": {
            "tags": []
          },
          "execution_count": 23
        }
      ]
    },
    {
      "cell_type": "code",
      "metadata": {
        "colab": {
          "base_uri": "https://localhost:8080/",
          "height": 200
        },
        "id": "8Xf-JdRWz9tX",
        "outputId": "826b813b-30f8-440e-ee0d-1e0f0939c9f6"
      },
      "source": [
        "종속[0:5]"
      ],
      "execution_count": 24,
      "outputs": [
        {
          "output_type": "execute_result",
          "data": {
            "text/html": [
              "<div>\n",
              "<style scoped>\n",
              "    .dataframe tbody tr th:only-of-type {\n",
              "        vertical-align: middle;\n",
              "    }\n",
              "\n",
              "    .dataframe tbody tr th {\n",
              "        vertical-align: top;\n",
              "    }\n",
              "\n",
              "    .dataframe thead th {\n",
              "        text-align: right;\n",
              "    }\n",
              "</style>\n",
              "<table border=\"1\" class=\"dataframe\">\n",
              "  <thead>\n",
              "    <tr style=\"text-align: right;\">\n",
              "      <th></th>\n",
              "      <th>medv</th>\n",
              "    </tr>\n",
              "  </thead>\n",
              "  <tbody>\n",
              "    <tr>\n",
              "      <th>0</th>\n",
              "      <td>24.0</td>\n",
              "    </tr>\n",
              "    <tr>\n",
              "      <th>1</th>\n",
              "      <td>21.6</td>\n",
              "    </tr>\n",
              "    <tr>\n",
              "      <th>2</th>\n",
              "      <td>34.7</td>\n",
              "    </tr>\n",
              "    <tr>\n",
              "      <th>3</th>\n",
              "      <td>33.4</td>\n",
              "    </tr>\n",
              "    <tr>\n",
              "      <th>4</th>\n",
              "      <td>36.2</td>\n",
              "    </tr>\n",
              "  </tbody>\n",
              "</table>\n",
              "</div>"
            ],
            "text/plain": [
              "   medv\n",
              "0  24.0\n",
              "1  21.6\n",
              "2  34.7\n",
              "3  33.4\n",
              "4  36.2"
            ]
          },
          "metadata": {
            "tags": []
          },
          "execution_count": 24
        }
      ]
    },
    {
      "cell_type": "code",
      "metadata": {
        "colab": {
          "base_uri": "https://localhost:8080/"
        },
        "id": "rSKj7nR50AQq",
        "outputId": "48c62a33-2a6d-4d4c-ed61-895ecb3db782"
      },
      "source": [
        "# 모델 수식 확인하기\n",
        "model.get_weights()"
      ],
      "execution_count": 27,
      "outputs": [
        {
          "output_type": "execute_result",
          "data": {
            "text/plain": [
              "[array([[-0.08954049],\n",
              "        [ 0.05062823],\n",
              "        [-0.0350601 ],\n",
              "        [ 2.730693  ],\n",
              "        [ 0.82633173],\n",
              "        [ 5.306957  ],\n",
              "        [-0.00988769],\n",
              "        [-1.0029854 ],\n",
              "        [ 0.18298551],\n",
              "        [-0.00970421],\n",
              "        [-0.43094265],\n",
              "        [ 0.01440287],\n",
              "        [-0.46408272]], dtype=float32), array([4.7828336], dtype=float32)]"
            ]
          },
          "metadata": {
            "tags": []
          },
          "execution_count": 27
        }
      ]
    },
    {
      "cell_type": "markdown",
      "metadata": {
        "id": "UnJeGhSs9H5b"
      },
      "source": [
        "### **아이리스 품종 분류**"
      ]
    },
    {
      "cell_type": "code",
      "metadata": {
        "id": "Tt28btTc0ZDl"
      },
      "source": [
        "# 라이브러리 가져오기\n",
        "import pandas as pd\n",
        "import tensorflow as tf"
      ],
      "execution_count": 28,
      "outputs": []
    },
    {
      "cell_type": "code",
      "metadata": {
        "colab": {
          "base_uri": "https://localhost:8080/",
          "height": 200
        },
        "id": "00iJqxPU97Bf",
        "outputId": "1e620b82-ee3f-4aaa-9c9c-034cae43dc2f"
      },
      "source": [
        "# 1. 과거의 데이터 준비\n",
        "파일경로 = 'https://raw.githubusercontent.com/blackdew/tensorflow1/master/csv/iris.csv'\n",
        "아이리스 = pd.read_csv(파일경로)\n",
        "아이리스.head()"
      ],
      "execution_count": 29,
      "outputs": [
        {
          "output_type": "execute_result",
          "data": {
            "text/html": [
              "<div>\n",
              "<style scoped>\n",
              "    .dataframe tbody tr th:only-of-type {\n",
              "        vertical-align: middle;\n",
              "    }\n",
              "\n",
              "    .dataframe tbody tr th {\n",
              "        vertical-align: top;\n",
              "    }\n",
              "\n",
              "    .dataframe thead th {\n",
              "        text-align: right;\n",
              "    }\n",
              "</style>\n",
              "<table border=\"1\" class=\"dataframe\">\n",
              "  <thead>\n",
              "    <tr style=\"text-align: right;\">\n",
              "      <th></th>\n",
              "      <th>꽃잎길이</th>\n",
              "      <th>꽃잎폭</th>\n",
              "      <th>꽃받침길이</th>\n",
              "      <th>꽃받침폭</th>\n",
              "      <th>품종</th>\n",
              "    </tr>\n",
              "  </thead>\n",
              "  <tbody>\n",
              "    <tr>\n",
              "      <th>0</th>\n",
              "      <td>5.1</td>\n",
              "      <td>3.5</td>\n",
              "      <td>1.4</td>\n",
              "      <td>0.2</td>\n",
              "      <td>setosa</td>\n",
              "    </tr>\n",
              "    <tr>\n",
              "      <th>1</th>\n",
              "      <td>4.9</td>\n",
              "      <td>3.0</td>\n",
              "      <td>1.4</td>\n",
              "      <td>0.2</td>\n",
              "      <td>setosa</td>\n",
              "    </tr>\n",
              "    <tr>\n",
              "      <th>2</th>\n",
              "      <td>4.7</td>\n",
              "      <td>3.2</td>\n",
              "      <td>1.3</td>\n",
              "      <td>0.2</td>\n",
              "      <td>setosa</td>\n",
              "    </tr>\n",
              "    <tr>\n",
              "      <th>3</th>\n",
              "      <td>4.6</td>\n",
              "      <td>3.1</td>\n",
              "      <td>1.5</td>\n",
              "      <td>0.2</td>\n",
              "      <td>setosa</td>\n",
              "    </tr>\n",
              "    <tr>\n",
              "      <th>4</th>\n",
              "      <td>5.0</td>\n",
              "      <td>3.6</td>\n",
              "      <td>1.4</td>\n",
              "      <td>0.2</td>\n",
              "      <td>setosa</td>\n",
              "    </tr>\n",
              "  </tbody>\n",
              "</table>\n",
              "</div>"
            ],
            "text/plain": [
              "   꽃잎길이  꽃잎폭  꽃받침길이  꽃받침폭      품종\n",
              "0   5.1  3.5    1.4   0.2  setosa\n",
              "1   4.9  3.0    1.4   0.2  setosa\n",
              "2   4.7  3.2    1.3   0.2  setosa\n",
              "3   4.6  3.1    1.5   0.2  setosa\n",
              "4   5.0  3.6    1.4   0.2  setosa"
            ]
          },
          "metadata": {
            "tags": []
          },
          "execution_count": 29
        }
      ]
    },
    {
      "cell_type": "code",
      "metadata": {
        "colab": {
          "base_uri": "https://localhost:8080/"
        },
        "id": "7wXNYJGmCIht",
        "outputId": "f162072c-ecc0-4130-bd2b-a02eded50bf3"
      },
      "source": [
        "# 원핫인코딩\n",
        "인코딩 = pd.get_dummies(아이리스)\n",
        "인코딩.head()\n",
        "print(인코딩.columns)"
      ],
      "execution_count": 36,
      "outputs": [
        {
          "output_type": "stream",
          "text": [
            "Index(['꽃잎길이', '꽃잎폭', '꽃받침길이', '꽃받침폭', '품종_setosa', '품종_versicolor',\n",
            "       '품종_virginica'],\n",
            "      dtype='object')\n"
          ],
          "name": "stdout"
        }
      ]
    },
    {
      "cell_type": "code",
      "metadata": {
        "colab": {
          "base_uri": "https://localhost:8080/"
        },
        "id": "8TC0IOCTCm_7",
        "outputId": "6d292223-b171-4664-9ce1-07ee6b217c52"
      },
      "source": [
        "# 독립, 종속변수\n",
        "독립 = 인코딩[['꽃잎길이', '꽃잎폭', '꽃받침길이', '꽃받침폭']]\n",
        "종속 = 인코딩[['품종_setosa', '품종_versicolor', '품종_virginica']]\n",
        "print(독립.shape, 종속.shape)"
      ],
      "execution_count": 38,
      "outputs": [
        {
          "output_type": "stream",
          "text": [
            "(150, 4) (150, 3)\n"
          ],
          "name": "stdout"
        }
      ]
    },
    {
      "cell_type": "code",
      "metadata": {
        "id": "9h7LFZyuDjdR"
      },
      "source": [
        "# 2. 모델의 구조 만들기\n",
        "X = tf.keras.layers.Input(shape=(4))\n",
        "Y = tf.keras.layers.Dense(3, activation='softmax')(X)\n",
        "model = tf.keras.models.Model(X, Y)\n",
        "model.compile(loss='categorical_crossentropy', metrics='accuracy')"
      ],
      "execution_count": 39,
      "outputs": []
    },
    {
      "cell_type": "code",
      "metadata": {
        "colab": {
          "base_uri": "https://localhost:8080/"
        },
        "id": "-7PI6uILEJ1t",
        "outputId": "e0722030-838d-419f-d3fe-3f24311c13b9"
      },
      "source": [
        "# 3. 데이터로 모델을 학습(FIT)시키기\n",
        "model.fit(독립, 종속, epochs=10)"
      ],
      "execution_count": 46,
      "outputs": [
        {
          "output_type": "stream",
          "text": [
            "Epoch 1/10\n",
            "5/5 [==============================] - 0s 2ms/step - loss: 0.3532 - accuracy: 0.9467\n",
            "Epoch 2/10\n",
            "5/5 [==============================] - 0s 6ms/step - loss: 0.3518 - accuracy: 0.9533\n",
            "Epoch 3/10\n",
            "5/5 [==============================] - 0s 4ms/step - loss: 0.3517 - accuracy: 0.9400\n",
            "Epoch 4/10\n",
            "5/5 [==============================] - 0s 2ms/step - loss: 0.3507 - accuracy: 0.9533\n",
            "Epoch 5/10\n",
            "5/5 [==============================] - 0s 2ms/step - loss: 0.3497 - accuracy: 0.9533\n",
            "Epoch 6/10\n",
            "5/5 [==============================] - 0s 2ms/step - loss: 0.3492 - accuracy: 0.9533\n",
            "Epoch 7/10\n",
            "5/5 [==============================] - 0s 2ms/step - loss: 0.3497 - accuracy: 0.9533\n",
            "Epoch 8/10\n",
            "5/5 [==============================] - 0s 4ms/step - loss: 0.3480 - accuracy: 0.9533\n",
            "Epoch 9/10\n",
            "5/5 [==============================] - 0s 2ms/step - loss: 0.3477 - accuracy: 0.9533\n",
            "Epoch 10/10\n",
            "5/5 [==============================] - 0s 3ms/step - loss: 0.3473 - accuracy: 0.9533\n"
          ],
          "name": "stdout"
        },
        {
          "output_type": "execute_result",
          "data": {
            "text/plain": [
              "<tensorflow.python.keras.callbacks.History at 0x7f39e02afb50>"
            ]
          },
          "metadata": {
            "tags": []
          },
          "execution_count": 46
        }
      ]
    },
    {
      "cell_type": "code",
      "metadata": {
        "colab": {
          "base_uri": "https://localhost:8080/"
        },
        "id": "OsfV73ukERMY",
        "outputId": "9e472d54-7e1e-42f0-dfac-29a0a2e67f32"
      },
      "source": [
        "# 모델 이용하기\n",
        "model.predict(독립[50:55])"
      ],
      "execution_count": 48,
      "outputs": [
        {
          "output_type": "execute_result",
          "data": {
            "text/plain": [
              "array([[0.01665183, 0.6195605 , 0.3637877 ],\n",
              "       [0.01867412, 0.54869056, 0.43263528],\n",
              "       [0.0083281 , 0.5733691 , 0.41830286],\n",
              "       [0.01186282, 0.52716964, 0.4609675 ],\n",
              "       [0.00750068, 0.5291979 , 0.4633014 ]], dtype=float32)"
            ]
          },
          "metadata": {
            "tags": []
          },
          "execution_count": 48
        }
      ]
    },
    {
      "cell_type": "code",
      "metadata": {
        "colab": {
          "base_uri": "https://localhost:8080/"
        },
        "id": "zcnbWR7HEntG",
        "outputId": "23367e0f-3398-4b8b-a063-8f6792557b3b"
      },
      "source": [
        "print(종속[50:55])"
      ],
      "execution_count": 49,
      "outputs": [
        {
          "output_type": "stream",
          "text": [
            "    품종_setosa  품종_versicolor  품종_virginica\n",
            "50          0              1             0\n",
            "51          0              1             0\n",
            "52          0              1             0\n",
            "53          0              1             0\n",
            "54          0              1             0\n"
          ],
          "name": "stdout"
        }
      ]
    },
    {
      "cell_type": "code",
      "metadata": {
        "colab": {
          "base_uri": "https://localhost:8080/"
        },
        "id": "5v9A1LFlE7Bh",
        "outputId": "79e14a21-faa0-4ddc-f730-27cc813a9593"
      },
      "source": [
        "model.get_weights()"
      ],
      "execution_count": 50,
      "outputs": [
        {
          "output_type": "execute_result",
          "data": {
            "text/plain": [
              "[array([[-0.04956865,  0.09698189, -0.0652703 ],\n",
              "        [ 2.0276172 ,  0.2495866 , -0.07046593],\n",
              "        [-1.5261892 , -0.02514214, -0.09655134],\n",
              "        [-1.5156102 ,  0.00484622,  1.8365164 ]], dtype=float32),\n",
              " array([ 0.98269653,  0.07947084, -0.52175033], dtype=float32)]"
            ]
          },
          "metadata": {
            "tags": []
          },
          "execution_count": 50
        }
      ]
    }
  ]
}